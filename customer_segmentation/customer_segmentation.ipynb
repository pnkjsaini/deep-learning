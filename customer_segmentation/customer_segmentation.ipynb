{
  "nbformat": 4,
  "nbformat_minor": 0,
  "metadata": {
    "colab": {
      "name": "customer_segmentation.ipynb",
      "provenance": []
    },
    "kernelspec": {
      "name": "python3",
      "display_name": "Python 3"
    },
    "language_info": {
      "name": "python"
    }
  },
  "cells": [
    {
      "cell_type": "markdown",
      "metadata": {
        "id": "E7pWo-rbZ9JU"
      },
      "source": [
        "# Segmentation \n",
        "STP : segmentation ,target ,Positioning \\\n",
        "FMCG - Fast moving conusmer good \\\n",
        "RFM : recurrence , frequency,monestary\\\n",
        "Segmentation : Based on homogenous \n",
        "characterstics object are grouped\n",
        "- compare purchase behaviour \n",
        "- different segments may respond differently\n",
        "- consumer data\n",
        "- Demographic\n",
        "- geographic\n",
        "- psychographic \n",
        "- Behavioral - historical data, time ,purchase quantity ,product ratings \\\n",
        " **Targeting** \\\n",
        "  Evaluting potential profits from segments and deciing which segments to focus on \\\n",
        " Factors Considerations:\n",
        " - Segment size \n",
        " - Expected growth \n",
        " - Competitors offerings\n",
        "\n",
        " **Positioning** \\\n",
        " What Product would have closet characteristics to customers needs\n",
        " - How to presente to customer\n",
        " - Channels - Marketing mix \\\n",
        "\n",
        " **Question to address** \\\n",
        " 1. Purchase Probability \n",
        " 2. Brand Choice Probability\n",
        " 3. Purchase quantity\n",
        "\n",
        "**Marketing MIx** \\\n",
        "4-Ps- [ Product, Price,Promotion,Place]\n",
        " - Product - Feature\n",
        " - Price - Product cost, long-term price change, discount \n",
        " - Promotion - How product is being communicated or advertised \\\n",
        "  - how product is being communicated or advertised\n",
        "  - related activites to its actual sale and communication \\\n",
        "\n",
        "\n",
        " - Place - where product will be offered or distributed \n",
        "   - Intensive distribution - coco cala\n",
        "   - Selective distribution - tech product\n",
        "   -  Exclusive Distribution - Luxury status product\n",
        "\n"
      ]
    },
    {
      "cell_type": "markdown",
      "metadata": {
        "id": "K4Bl-QTveTrz"
      },
      "source": [
        "# Retail store \n",
        "- physical and online store \n",
        "  - physical store have restricated location,\n",
        "  walmart and amazon\n",
        "  - location that define them \n",
        "  - Online store are gold mine when it comes to online store .More and Diverse data\n",
        "- Return and refund \n",
        "  - returns are likely to be minimum in physical store \n",
        "  - online we've database that can tack on past consumer behaviour which can be valuable feature for modeling probability\n",
        "  -  Data stored at online product have great signifacnt \n",
        " \n",
        "\n"
      ]
    },
    {
      "cell_type": "markdown",
      "metadata": {
        "id": "cilJxvH7hPKA"
      },
      "source": [
        "# implement what you learn \n",
        "- segmentation data set \n",
        "- 6 step  process in data\n",
        "- import libraries\n",
        "- clean the data\n",
        "- make it ready for processing \n",
        "- chosse the model \n",
        "- evaluate model \n",
        "- Deploy model\n"
      ]
    },
    {
      "cell_type": "code",
      "metadata": {
        "id": "zAu3eLwNfjRW"
      },
      "source": [
        "                                                                                                                                                                                              import numpy as np \n",
        "import pandas as pd \n",
        "import matplotlib.pyplot as plt \n",
        "import sklearn as skl\n",
        "import seaborn as sns "
      ],
      "execution_count": null,
      "outputs": []
    },
    {
      "cell_type": "code",
      "metadata": {
        "id": "z1DkNA0BmUV8"
      },
      "source": [
        "!cp /content/drive/MyDrive/Datasets/customer_segmentation/customer-segmentation-dataset.zip /content/"
      ],
      "execution_count": null,
      "outputs": []
    },
    {
      "cell_type": "code",
      "metadata": {
        "colab": {
          "base_uri": "https://localhost:8080/"
        },
        "id": "YWrELxyzmeCL",
        "outputId": "297511fd-9644-4ded-b5a0-0685e71229e2"
      },
      "source": [
        "!unzip /content/drive/MyDrive/datasets/data.csv.zip\n",
        "!cp customer-segmentation-dataset/"
      ],
      "execution_count": null,
      "outputs": [
        {
          "output_type": "stream",
          "name": "stdout",
          "text": [
            "Archive:  /content/drive/MyDrive/datasets/data.csv.zip\n",
            "  inflating: data.csv                \n",
            "cp: missing destination file operand after 'customer-segmentation-dataset/'\n",
            "Try 'cp --help' for more information.\n"
          ]
        }
      ]
    },
    {
      "cell_type": "code",
      "metadata": {
        "id": "dS1axJ8MhH7g"
      },
      "source": [
        "df = pd.read_csv('/content/data.csv',engine='python',quoting=0)"
      ],
      "execution_count": null,
      "outputs": []
    },
    {
      "cell_type": "markdown",
      "metadata": {
        "id": "hA9zOs_tuADx"
      },
      "source": [
        "# Data Exploration and Preprocessing "
      ]
    },
    {
      "cell_type": "code",
      "metadata": {
        "colab": {
          "base_uri": "https://localhost:8080/"
        },
        "id": "q46J-vdXZ8x7",
        "outputId": "ed5f8824-0671-47c5-c7d9-b344435356bc"
      },
      "source": [
        "df.shape"
      ],
      "execution_count": null,
      "outputs": [
        {
          "output_type": "execute_result",
          "data": {
            "text/plain": [
              "(541909, 8)"
            ]
          },
          "metadata": {},
          "execution_count": 18
        }
      ]
    },
    {
      "cell_type": "code",
      "metadata": {
        "colab": {
          "base_uri": "https://localhost:8080/",
          "height": 203
        },
        "id": "j0ulsgzHmxM7",
        "outputId": "11d4e811-3dce-4014-cff6-48ed4c0cd32c"
      },
      "source": [
        "df.head()"
      ],
      "execution_count": null,
      "outputs": [
        {
          "output_type": "execute_result",
          "data": {
            "text/html": [
              "<div>\n",
              "<style scoped>\n",
              "    .dataframe tbody tr th:only-of-type {\n",
              "        vertical-align: middle;\n",
              "    }\n",
              "\n",
              "    .dataframe tbody tr th {\n",
              "        vertical-align: top;\n",
              "    }\n",
              "\n",
              "    .dataframe thead th {\n",
              "        text-align: right;\n",
              "    }\n",
              "</style>\n",
              "<table border=\"1\" class=\"dataframe\">\n",
              "  <thead>\n",
              "    <tr style=\"text-align: right;\">\n",
              "      <th></th>\n",
              "      <th>InvoiceNo</th>\n",
              "      <th>StockCode</th>\n",
              "      <th>Description</th>\n",
              "      <th>Quantity</th>\n",
              "      <th>InvoiceDate</th>\n",
              "      <th>UnitPrice</th>\n",
              "      <th>CustomerID</th>\n",
              "      <th>Country</th>\n",
              "    </tr>\n",
              "  </thead>\n",
              "  <tbody>\n",
              "    <tr>\n",
              "      <th>0</th>\n",
              "      <td>536365</td>\n",
              "      <td>85123A</td>\n",
              "      <td>WHITE HANGING HEART T-LIGHT HOLDER</td>\n",
              "      <td>6</td>\n",
              "      <td>12/1/2010 8:26</td>\n",
              "      <td>2.55</td>\n",
              "      <td>17850.0</td>\n",
              "      <td>United Kingdom</td>\n",
              "    </tr>\n",
              "    <tr>\n",
              "      <th>1</th>\n",
              "      <td>536365</td>\n",
              "      <td>71053</td>\n",
              "      <td>WHITE METAL LANTERN</td>\n",
              "      <td>6</td>\n",
              "      <td>12/1/2010 8:26</td>\n",
              "      <td>3.39</td>\n",
              "      <td>17850.0</td>\n",
              "      <td>United Kingdom</td>\n",
              "    </tr>\n",
              "    <tr>\n",
              "      <th>2</th>\n",
              "      <td>536365</td>\n",
              "      <td>84406B</td>\n",
              "      <td>CREAM CUPID HEARTS COAT HANGER</td>\n",
              "      <td>8</td>\n",
              "      <td>12/1/2010 8:26</td>\n",
              "      <td>2.75</td>\n",
              "      <td>17850.0</td>\n",
              "      <td>United Kingdom</td>\n",
              "    </tr>\n",
              "    <tr>\n",
              "      <th>3</th>\n",
              "      <td>536365</td>\n",
              "      <td>84029G</td>\n",
              "      <td>KNITTED UNION FLAG HOT WATER BOTTLE</td>\n",
              "      <td>6</td>\n",
              "      <td>12/1/2010 8:26</td>\n",
              "      <td>3.39</td>\n",
              "      <td>17850.0</td>\n",
              "      <td>United Kingdom</td>\n",
              "    </tr>\n",
              "    <tr>\n",
              "      <th>4</th>\n",
              "      <td>536365</td>\n",
              "      <td>84029E</td>\n",
              "      <td>RED WOOLLY HOTTIE WHITE HEART.</td>\n",
              "      <td>6</td>\n",
              "      <td>12/1/2010 8:26</td>\n",
              "      <td>3.39</td>\n",
              "      <td>17850.0</td>\n",
              "      <td>United Kingdom</td>\n",
              "    </tr>\n",
              "  </tbody>\n",
              "</table>\n",
              "</div>"
            ],
            "text/plain": [
              "  InvoiceNo StockCode  ... CustomerID         Country\n",
              "0    536365    85123A  ...    17850.0  United Kingdom\n",
              "1    536365     71053  ...    17850.0  United Kingdom\n",
              "2    536365    84406B  ...    17850.0  United Kingdom\n",
              "3    536365    84029G  ...    17850.0  United Kingdom\n",
              "4    536365    84029E  ...    17850.0  United Kingdom\n",
              "\n",
              "[5 rows x 8 columns]"
            ]
          },
          "metadata": {},
          "execution_count": 19
        }
      ]
    },
    {
      "cell_type": "code",
      "metadata": {
        "id": "qfvObFv6nUDh"
      },
      "source": [
        "import datetime as dt "
      ],
      "execution_count": null,
      "outputs": []
    },
    {
      "cell_type": "code",
      "metadata": {
        "id": "zACiKh1etkMI"
      },
      "source": [
        "df1=df.copy()"
      ],
      "execution_count": null,
      "outputs": []
    },
    {
      "cell_type": "code",
      "metadata": {
        "colab": {
          "base_uri": "https://localhost:8080/"
        },
        "id": "1oaZkOh0Z4o6",
        "outputId": "853049e4-334c-43f0-d1e5-060a6938f690"
      },
      "source": [
        "df.isnull().sum()"
      ],
      "execution_count": null,
      "outputs": [
        {
          "output_type": "execute_result",
          "data": {
            "text/plain": [
              "InvoiceNo           0\n",
              "StockCode           0\n",
              "Description      1454\n",
              "Quantity            0\n",
              "InvoiceDate         0\n",
              "UnitPrice           0\n",
              "CustomerID     135080\n",
              "Country             0\n",
              "dtype: int64"
            ]
          },
          "metadata": {},
          "execution_count": 22
        }
      ]
    },
    {
      "cell_type": "code",
      "metadata": {
        "colab": {
          "base_uri": "https://localhost:8080/"
        },
        "id": "V-Z_MLkxtTPu",
        "outputId": "82a3a8e9-626e-498e-fcfb-c44c44247462"
      },
      "source": [
        "df.dtypes"
      ],
      "execution_count": null,
      "outputs": [
        {
          "output_type": "execute_result",
          "data": {
            "text/plain": [
              "InvoiceNo       object\n",
              "StockCode       object\n",
              "Description     object\n",
              "Quantity         int64\n",
              "InvoiceDate     object\n",
              "UnitPrice      float64\n",
              "CustomerID     float64\n",
              "Country         object\n",
              "dtype: object"
            ]
          },
          "metadata": {},
          "execution_count": 23
        }
      ]
    },
    {
      "cell_type": "code",
      "metadata": {
        "id": "QaVZoH6ntqpQ"
      },
      "source": [
        "df1=df1.fillna(0);"
      ],
      "execution_count": null,
      "outputs": []
    },
    {
      "cell_type": "code",
      "metadata": {
        "colab": {
          "base_uri": "https://localhost:8080/"
        },
        "id": "RLOiO3E6tuid",
        "outputId": "4a4cd6a1-a949-428c-dd62-02456a24056d"
      },
      "source": [
        "df1.isnull().sum()"
      ],
      "execution_count": null,
      "outputs": [
        {
          "output_type": "execute_result",
          "data": {
            "text/plain": [
              "InvoiceNo      0\n",
              "StockCode      0\n",
              "Description    0\n",
              "Quantity       0\n",
              "InvoiceDate    0\n",
              "UnitPrice      0\n",
              "CustomerID     0\n",
              "Country        0\n",
              "dtype: int64"
            ]
          },
          "metadata": {},
          "execution_count": 25
        }
      ]
    },
    {
      "cell_type": "code",
      "metadata": {
        "colab": {
          "base_uri": "https://localhost:8080/"
        },
        "id": "-FZOLuGVqdGi",
        "outputId": "e1ca8a8d-4a44-4353-dd5f-a1d7e067c33d"
      },
      "source": [
        "{col: len(df1[col].unique()) for col in df1.columns}"
      ],
      "execution_count": null,
      "outputs": [
        {
          "output_type": "execute_result",
          "data": {
            "text/plain": [
              "{'Country': 38,\n",
              " 'CustomerID': 4373,\n",
              " 'Description': 4224,\n",
              " 'InvoiceDate': 23260,\n",
              " 'InvoiceNo': 25900,\n",
              " 'Quantity': 722,\n",
              " 'StockCode': 4070,\n",
              " 'UnitPrice': 1630}"
            ]
          },
          "metadata": {},
          "execution_count": 26
        }
      ]
    },
    {
      "cell_type": "code",
      "metadata": {
        "colab": {
          "base_uri": "https://localhost:8080/"
        },
        "id": "8O1X10Csuw2W",
        "outputId": "51575ac7-cf8e-4e85-f644-53463efb6592"
      },
      "source": [
        "df1['StockCode'].value_counts().sort_values(ascending=False).head()"
      ],
      "execution_count": null,
      "outputs": [
        {
          "output_type": "execute_result",
          "data": {
            "text/plain": [
              "85123A    2313\n",
              "22423     2203\n",
              "85099B    2159\n",
              "47566     1727\n",
              "20725     1639\n",
              "Name: StockCode, dtype: int64"
            ]
          },
          "metadata": {},
          "execution_count": 27
        }
      ]
    },
    {
      "cell_type": "code",
      "metadata": {
        "id": "_3Cu1xP0vcae"
      },
      "source": [
        "df1=df1[~df1['InvoiceNo'].str.contains('C',na=False)]"
      ],
      "execution_count": null,
      "outputs": []
    },
    {
      "cell_type": "markdown",
      "metadata": {
        "id": "DITqP3hIw4ka"
      },
      "source": [
        "- Effective price = quantity*price"
      ]
    },
    {
      "cell_type": "code",
      "metadata": {
        "id": "tHW7VETew4Hu"
      },
      "source": [
        "df1['eff_price']=df1['Quantity']*df1['UnitPrice']"
      ],
      "execution_count": null,
      "outputs": []
    },
    {
      "cell_type": "markdown",
      "metadata": {
        "id": "NsKd8ZGGxvCt"
      },
      "source": [
        "# calculation of RFM metrics\n",
        "- Recency - number of days between today_Date and last purchase of customer\n",
        "- Frequency - number of purchase of particaular customer\n",
        "- Monetary - Sum of total Price of particular customer "
      ]
    },
    {
      "cell_type": "code",
      "metadata": {
        "id": "YR_dGQFL4wtG"
      },
      "source": [
        "#changin date time format of data frame\n",
        "df1['InvoiceDate']=pd.to_datetime(df.InvoiceDate)"
      ],
      "execution_count": null,
      "outputs": []
    },
    {
      "cell_type": "code",
      "metadata": {
        "colab": {
          "base_uri": "https://localhost:8080/"
        },
        "id": "U2GWfROvxuC_",
        "outputId": "ebc39b2b-9d12-4c18-8695-d66e7217d4b8"
      },
      "source": [
        "#last date of purchase\n",
        "df1['InvoiceDate'].max()"
      ],
      "execution_count": null,
      "outputs": [
        {
          "output_type": "execute_result",
          "data": {
            "text/plain": [
              "Timestamp('2011-12-09 12:50:00')"
            ]
          },
          "metadata": {},
          "execution_count": 31
        }
      ]
    },
    {
      "cell_type": "code",
      "metadata": {
        "colab": {
          "base_uri": "https://localhost:8080/"
        },
        "id": "8YQOMyhhxM22",
        "outputId": "20778b6b-d5b7-4265-8328-f7b7137982b0"
      },
      "source": [
        "# To make sure none of recency value become zero\n",
        "today_Date=dt.datetime(2011,12,11)\n",
        "today_Date"
      ],
      "execution_count": null,
      "outputs": [
        {
          "output_type": "execute_result",
          "data": {
            "text/plain": [
              "datetime.datetime(2011, 12, 11, 0, 0)"
            ]
          },
          "metadata": {},
          "execution_count": 32
        }
      ]
    },
    {
      "cell_type": "code",
      "metadata": {
        "id": "CI8Cu43h4HSP"
      },
      "source": [
        "today_Date=dt.datetime(2011,9,11)"
      ],
      "execution_count": null,
      "outputs": []
    },
    {
      "cell_type": "code",
      "metadata": {
        "id": "tq72ID1kyuTx"
      },
      "source": [
        "rfm=df1.groupby('CustomerID').agg({'InvoiceDate': lambda InvoiceDate:(today_Date-InvoiceDate.max()).days,\n",
        "                                  'InvoiceNo':lambda InvoiceNo:InvoiceNo.nunique(),\n",
        "                                  'eff_price':lambda eff_price:eff_price.sum()})"
      ],
      "execution_count": null,
      "outputs": []
    },
    {
      "cell_type": "code",
      "metadata": {
        "colab": {
          "base_uri": "https://localhost:8080/",
          "height": 234
        },
        "id": "UOFb2sZS6O_0",
        "outputId": "1297e509-541c-4a22-eccc-a99e49e7cb2b"
      },
      "source": [
        "rfm.tail()"
      ],
      "execution_count": null,
      "outputs": [
        {
          "output_type": "execute_result",
          "data": {
            "text/html": [
              "<div>\n",
              "<style scoped>\n",
              "    .dataframe tbody tr th:only-of-type {\n",
              "        vertical-align: middle;\n",
              "    }\n",
              "\n",
              "    .dataframe tbody tr th {\n",
              "        vertical-align: top;\n",
              "    }\n",
              "\n",
              "    .dataframe thead th {\n",
              "        text-align: right;\n",
              "    }\n",
              "</style>\n",
              "<table border=\"1\" class=\"dataframe\">\n",
              "  <thead>\n",
              "    <tr style=\"text-align: right;\">\n",
              "      <th></th>\n",
              "      <th>InvoiceDate</th>\n",
              "      <th>InvoiceNo</th>\n",
              "      <th>eff_price</th>\n",
              "    </tr>\n",
              "    <tr>\n",
              "      <th>CustomerID</th>\n",
              "      <th></th>\n",
              "      <th></th>\n",
              "      <th></th>\n",
              "    </tr>\n",
              "  </thead>\n",
              "  <tbody>\n",
              "    <tr>\n",
              "      <th>18280.0</th>\n",
              "      <td>187</td>\n",
              "      <td>1</td>\n",
              "      <td>180.60</td>\n",
              "    </tr>\n",
              "    <tr>\n",
              "      <th>18281.0</th>\n",
              "      <td>90</td>\n",
              "      <td>1</td>\n",
              "      <td>80.82</td>\n",
              "    </tr>\n",
              "    <tr>\n",
              "      <th>18282.0</th>\n",
              "      <td>-83</td>\n",
              "      <td>2</td>\n",
              "      <td>178.05</td>\n",
              "    </tr>\n",
              "    <tr>\n",
              "      <th>18283.0</th>\n",
              "      <td>-87</td>\n",
              "      <td>16</td>\n",
              "      <td>2094.88</td>\n",
              "    </tr>\n",
              "    <tr>\n",
              "      <th>18287.0</th>\n",
              "      <td>-48</td>\n",
              "      <td>3</td>\n",
              "      <td>1837.28</td>\n",
              "    </tr>\n",
              "  </tbody>\n",
              "</table>\n",
              "</div>"
            ],
            "text/plain": [
              "            InvoiceDate  InvoiceNo  eff_price\n",
              "CustomerID                                   \n",
              "18280.0             187          1     180.60\n",
              "18281.0              90          1      80.82\n",
              "18282.0             -83          2     178.05\n",
              "18283.0             -87         16    2094.88\n",
              "18287.0             -48          3    1837.28"
            ]
          },
          "metadata": {},
          "execution_count": 36
        }
      ]
    },
    {
      "cell_type": "code",
      "metadata": {
        "id": "teqYEaeo6ZRi"
      },
      "source": [
        "rfm.columns=['recency','frequency','monetary']"
      ],
      "execution_count": null,
      "outputs": []
    },
    {
      "cell_type": "code",
      "metadata": {
        "colab": {
          "base_uri": "https://localhost:8080/",
          "height": 234
        },
        "id": "25Fq4GIX6pd_",
        "outputId": "f9afaf1e-7c8d-4c06-856d-9d61b8a56f51"
      },
      "source": [
        "rfm.tail()"
      ],
      "execution_count": null,
      "outputs": [
        {
          "output_type": "execute_result",
          "data": {
            "text/html": [
              "<div>\n",
              "<style scoped>\n",
              "    .dataframe tbody tr th:only-of-type {\n",
              "        vertical-align: middle;\n",
              "    }\n",
              "\n",
              "    .dataframe tbody tr th {\n",
              "        vertical-align: top;\n",
              "    }\n",
              "\n",
              "    .dataframe thead th {\n",
              "        text-align: right;\n",
              "    }\n",
              "</style>\n",
              "<table border=\"1\" class=\"dataframe\">\n",
              "  <thead>\n",
              "    <tr style=\"text-align: right;\">\n",
              "      <th></th>\n",
              "      <th>recency</th>\n",
              "      <th>frequency</th>\n",
              "      <th>monetary</th>\n",
              "    </tr>\n",
              "    <tr>\n",
              "      <th>CustomerID</th>\n",
              "      <th></th>\n",
              "      <th></th>\n",
              "      <th></th>\n",
              "    </tr>\n",
              "  </thead>\n",
              "  <tbody>\n",
              "    <tr>\n",
              "      <th>18280.0</th>\n",
              "      <td>187</td>\n",
              "      <td>1</td>\n",
              "      <td>180.60</td>\n",
              "    </tr>\n",
              "    <tr>\n",
              "      <th>18281.0</th>\n",
              "      <td>90</td>\n",
              "      <td>1</td>\n",
              "      <td>80.82</td>\n",
              "    </tr>\n",
              "    <tr>\n",
              "      <th>18282.0</th>\n",
              "      <td>-83</td>\n",
              "      <td>2</td>\n",
              "      <td>178.05</td>\n",
              "    </tr>\n",
              "    <tr>\n",
              "      <th>18283.0</th>\n",
              "      <td>-87</td>\n",
              "      <td>16</td>\n",
              "      <td>2094.88</td>\n",
              "    </tr>\n",
              "    <tr>\n",
              "      <th>18287.0</th>\n",
              "      <td>-48</td>\n",
              "      <td>3</td>\n",
              "      <td>1837.28</td>\n",
              "    </tr>\n",
              "  </tbody>\n",
              "</table>\n",
              "</div>"
            ],
            "text/plain": [
              "            recency  frequency  monetary\n",
              "CustomerID                              \n",
              "18280.0         187          1    180.60\n",
              "18281.0          90          1     80.82\n",
              "18282.0         -83          2    178.05\n",
              "18283.0         -87         16   2094.88\n",
              "18287.0         -48          3   1837.28"
            ]
          },
          "metadata": {},
          "execution_count": 38
        }
      ]
    },
    {
      "cell_type": "code",
      "metadata": {
        "colab": {
          "base_uri": "https://localhost:8080/",
          "height": 234
        },
        "id": "W80LS-Gv6r9p",
        "outputId": "34153004-9474-4cb4-b716-80d197cc39dc"
      },
      "source": [
        "rfm=rfm[rfm['monetary']>0]\n",
        "rfm.head()"
      ],
      "execution_count": null,
      "outputs": [
        {
          "output_type": "execute_result",
          "data": {
            "text/html": [
              "<div>\n",
              "<style scoped>\n",
              "    .dataframe tbody tr th:only-of-type {\n",
              "        vertical-align: middle;\n",
              "    }\n",
              "\n",
              "    .dataframe tbody tr th {\n",
              "        vertical-align: top;\n",
              "    }\n",
              "\n",
              "    .dataframe thead th {\n",
              "        text-align: right;\n",
              "    }\n",
              "</style>\n",
              "<table border=\"1\" class=\"dataframe\">\n",
              "  <thead>\n",
              "    <tr style=\"text-align: right;\">\n",
              "      <th></th>\n",
              "      <th>recency</th>\n",
              "      <th>frequency</th>\n",
              "      <th>monetary</th>\n",
              "    </tr>\n",
              "    <tr>\n",
              "      <th>CustomerID</th>\n",
              "      <th></th>\n",
              "      <th></th>\n",
              "      <th></th>\n",
              "    </tr>\n",
              "  </thead>\n",
              "  <tbody>\n",
              "    <tr>\n",
              "      <th>0.0</th>\n",
              "      <td>-90</td>\n",
              "      <td>3528</td>\n",
              "      <td>1733152.52</td>\n",
              "    </tr>\n",
              "    <tr>\n",
              "      <th>12346.0</th>\n",
              "      <td>235</td>\n",
              "      <td>1</td>\n",
              "      <td>77183.60</td>\n",
              "    </tr>\n",
              "    <tr>\n",
              "      <th>12347.0</th>\n",
              "      <td>-88</td>\n",
              "      <td>7</td>\n",
              "      <td>4310.00</td>\n",
              "    </tr>\n",
              "    <tr>\n",
              "      <th>12348.0</th>\n",
              "      <td>-15</td>\n",
              "      <td>4</td>\n",
              "      <td>1797.24</td>\n",
              "    </tr>\n",
              "    <tr>\n",
              "      <th>12349.0</th>\n",
              "      <td>-72</td>\n",
              "      <td>1</td>\n",
              "      <td>1757.55</td>\n",
              "    </tr>\n",
              "  </tbody>\n",
              "</table>\n",
              "</div>"
            ],
            "text/plain": [
              "            recency  frequency    monetary\n",
              "CustomerID                                \n",
              "0.0             -90       3528  1733152.52\n",
              "12346.0         235          1    77183.60\n",
              "12347.0         -88          7     4310.00\n",
              "12348.0         -15          4     1797.24\n",
              "12349.0         -72          1     1757.55"
            ]
          },
          "metadata": {},
          "execution_count": 39
        }
      ]
    },
    {
      "cell_type": "code",
      "metadata": {
        "id": "osb52VB72Gmv",
        "colab": {
          "base_uri": "https://localhost:8080/",
          "height": 203
        },
        "outputId": "835a17b0-373c-4da9-f731-2d66834b5c98"
      },
      "source": [
        "df1.head()"
      ],
      "execution_count": null,
      "outputs": [
        {
          "output_type": "execute_result",
          "data": {
            "text/html": [
              "<div>\n",
              "<style scoped>\n",
              "    .dataframe tbody tr th:only-of-type {\n",
              "        vertical-align: middle;\n",
              "    }\n",
              "\n",
              "    .dataframe tbody tr th {\n",
              "        vertical-align: top;\n",
              "    }\n",
              "\n",
              "    .dataframe thead th {\n",
              "        text-align: right;\n",
              "    }\n",
              "</style>\n",
              "<table border=\"1\" class=\"dataframe\">\n",
              "  <thead>\n",
              "    <tr style=\"text-align: right;\">\n",
              "      <th></th>\n",
              "      <th>InvoiceNo</th>\n",
              "      <th>StockCode</th>\n",
              "      <th>Description</th>\n",
              "      <th>Quantity</th>\n",
              "      <th>InvoiceDate</th>\n",
              "      <th>UnitPrice</th>\n",
              "      <th>CustomerID</th>\n",
              "      <th>Country</th>\n",
              "      <th>eff_price</th>\n",
              "    </tr>\n",
              "  </thead>\n",
              "  <tbody>\n",
              "    <tr>\n",
              "      <th>0</th>\n",
              "      <td>536365</td>\n",
              "      <td>85123A</td>\n",
              "      <td>WHITE HANGING HEART T-LIGHT HOLDER</td>\n",
              "      <td>6</td>\n",
              "      <td>2010-12-01 08:26:00</td>\n",
              "      <td>2.55</td>\n",
              "      <td>17850.0</td>\n",
              "      <td>United Kingdom</td>\n",
              "      <td>15.30</td>\n",
              "    </tr>\n",
              "    <tr>\n",
              "      <th>1</th>\n",
              "      <td>536365</td>\n",
              "      <td>71053</td>\n",
              "      <td>WHITE METAL LANTERN</td>\n",
              "      <td>6</td>\n",
              "      <td>2010-12-01 08:26:00</td>\n",
              "      <td>3.39</td>\n",
              "      <td>17850.0</td>\n",
              "      <td>United Kingdom</td>\n",
              "      <td>20.34</td>\n",
              "    </tr>\n",
              "    <tr>\n",
              "      <th>2</th>\n",
              "      <td>536365</td>\n",
              "      <td>84406B</td>\n",
              "      <td>CREAM CUPID HEARTS COAT HANGER</td>\n",
              "      <td>8</td>\n",
              "      <td>2010-12-01 08:26:00</td>\n",
              "      <td>2.75</td>\n",
              "      <td>17850.0</td>\n",
              "      <td>United Kingdom</td>\n",
              "      <td>22.00</td>\n",
              "    </tr>\n",
              "    <tr>\n",
              "      <th>3</th>\n",
              "      <td>536365</td>\n",
              "      <td>84029G</td>\n",
              "      <td>KNITTED UNION FLAG HOT WATER BOTTLE</td>\n",
              "      <td>6</td>\n",
              "      <td>2010-12-01 08:26:00</td>\n",
              "      <td>3.39</td>\n",
              "      <td>17850.0</td>\n",
              "      <td>United Kingdom</td>\n",
              "      <td>20.34</td>\n",
              "    </tr>\n",
              "    <tr>\n",
              "      <th>4</th>\n",
              "      <td>536365</td>\n",
              "      <td>84029E</td>\n",
              "      <td>RED WOOLLY HOTTIE WHITE HEART.</td>\n",
              "      <td>6</td>\n",
              "      <td>2010-12-01 08:26:00</td>\n",
              "      <td>3.39</td>\n",
              "      <td>17850.0</td>\n",
              "      <td>United Kingdom</td>\n",
              "      <td>20.34</td>\n",
              "    </tr>\n",
              "  </tbody>\n",
              "</table>\n",
              "</div>"
            ],
            "text/plain": [
              "  InvoiceNo StockCode  ...         Country  eff_price\n",
              "0    536365    85123A  ...  United Kingdom      15.30\n",
              "1    536365     71053  ...  United Kingdom      20.34\n",
              "2    536365    84406B  ...  United Kingdom      22.00\n",
              "3    536365    84029G  ...  United Kingdom      20.34\n",
              "4    536365    84029E  ...  United Kingdom      20.34\n",
              "\n",
              "[5 rows x 9 columns]"
            ]
          },
          "metadata": {},
          "execution_count": 40
        }
      ]
    },
    {
      "cell_type": "code",
      "metadata": {
        "id": "5utmz0oG_xAB"
      },
      "source": [
        "rfm=rfm.drop(rfm.index[0])"
      ],
      "execution_count": null,
      "outputs": []
    },
    {
      "cell_type": "code",
      "metadata": {
        "id": "PlMfwlxI-FqF"
      },
      "source": [
        "rfm['recency_score']=pd.qcut(rfm['recency'],5 ,labels=[5,4,3,2,1])\n",
        "rfm['frequency_score']=pd.qcut(rfm['frequency'].rank(method=\"first\"),5,labels=[1,2,3,4,5])\n",
        "rfm['monetary_score']=pd.qcut(rfm['monetary'].rank(method=\"first\"),5,labels=[1,2,3,4,5])\n",
        "rfm['rfm_score']=(rfm['recency_score'].astype(str)+rfm['frequency_score'].astype(str))"
      ],
      "execution_count": null,
      "outputs": []
    },
    {
      "cell_type": "markdown",
      "metadata": {
        "id": "yVawjJehEAVq"
      },
      "source": [
        "# interpretaion \n",
        "- recency score = time-duration,low value means don't frequently shop\n",
        "-  frequency score : high frqency means spedn frequently\n",
        "- monetary_value :Total amount spend \n"
      ]
    },
    {
      "cell_type": "code",
      "metadata": {
        "colab": {
          "base_uri": "https://localhost:8080/",
          "height": 234
        },
        "id": "6KzF6fJcAUGl",
        "outputId": "2bbd35c3-043e-44fe-e382-3c48e850a807"
      },
      "source": [
        "rfm.head(5)"
      ],
      "execution_count": null,
      "outputs": [
        {
          "output_type": "execute_result",
          "data": {
            "text/html": [
              "<div>\n",
              "<style scoped>\n",
              "    .dataframe tbody tr th:only-of-type {\n",
              "        vertical-align: middle;\n",
              "    }\n",
              "\n",
              "    .dataframe tbody tr th {\n",
              "        vertical-align: top;\n",
              "    }\n",
              "\n",
              "    .dataframe thead th {\n",
              "        text-align: right;\n",
              "    }\n",
              "</style>\n",
              "<table border=\"1\" class=\"dataframe\">\n",
              "  <thead>\n",
              "    <tr style=\"text-align: right;\">\n",
              "      <th></th>\n",
              "      <th>recency</th>\n",
              "      <th>frequency</th>\n",
              "      <th>monetary</th>\n",
              "      <th>recency_score</th>\n",
              "      <th>frequency_score</th>\n",
              "      <th>monetary_score</th>\n",
              "      <th>rfm_score</th>\n",
              "    </tr>\n",
              "    <tr>\n",
              "      <th>CustomerID</th>\n",
              "      <th></th>\n",
              "      <th></th>\n",
              "      <th></th>\n",
              "      <th></th>\n",
              "      <th></th>\n",
              "      <th></th>\n",
              "      <th></th>\n",
              "    </tr>\n",
              "  </thead>\n",
              "  <tbody>\n",
              "    <tr>\n",
              "      <th>12346.0</th>\n",
              "      <td>235</td>\n",
              "      <td>1</td>\n",
              "      <td>77183.60</td>\n",
              "      <td>1</td>\n",
              "      <td>1</td>\n",
              "      <td>5</td>\n",
              "      <td>11</td>\n",
              "    </tr>\n",
              "    <tr>\n",
              "      <th>12347.0</th>\n",
              "      <td>-88</td>\n",
              "      <td>7</td>\n",
              "      <td>4310.00</td>\n",
              "      <td>5</td>\n",
              "      <td>5</td>\n",
              "      <td>5</td>\n",
              "      <td>55</td>\n",
              "    </tr>\n",
              "    <tr>\n",
              "      <th>12348.0</th>\n",
              "      <td>-15</td>\n",
              "      <td>4</td>\n",
              "      <td>1797.24</td>\n",
              "      <td>2</td>\n",
              "      <td>4</td>\n",
              "      <td>4</td>\n",
              "      <td>24</td>\n",
              "    </tr>\n",
              "    <tr>\n",
              "      <th>12349.0</th>\n",
              "      <td>-72</td>\n",
              "      <td>1</td>\n",
              "      <td>1757.55</td>\n",
              "      <td>4</td>\n",
              "      <td>1</td>\n",
              "      <td>4</td>\n",
              "      <td>41</td>\n",
              "    </tr>\n",
              "    <tr>\n",
              "      <th>12350.0</th>\n",
              "      <td>220</td>\n",
              "      <td>1</td>\n",
              "      <td>334.40</td>\n",
              "      <td>1</td>\n",
              "      <td>1</td>\n",
              "      <td>2</td>\n",
              "      <td>11</td>\n",
              "    </tr>\n",
              "  </tbody>\n",
              "</table>\n",
              "</div>"
            ],
            "text/plain": [
              "            recency  frequency  ...  monetary_score rfm_score\n",
              "CustomerID                      ...                          \n",
              "12346.0         235          1  ...               5        11\n",
              "12347.0         -88          7  ...               5        55\n",
              "12348.0         -15          4  ...               4        24\n",
              "12349.0         -72          1  ...               4        41\n",
              "12350.0         220          1  ...               2        11\n",
              "\n",
              "[5 rows x 7 columns]"
            ]
          },
          "metadata": {},
          "execution_count": 44
        }
      ]
    },
    {
      "cell_type": "markdown",
      "metadata": {
        "id": "z2BrVZNsFiLg"
      },
      "source": [
        "#seg_map define\n",
        "<table>\n",
        "<tr>\n",
        "<th>Recency</h1>\n",
        "<th>Frequency</th>\n",
        "<th>consumer behaviour</th>\n",
        "<th>Customer Type</th>\n",
        "</tr>\n",
        "<tr>\n",
        "<th>1,2</h1>\n",
        "<th>1,2</th>\n",
        "<th>very long duration,very low frequency</th>\n",
        "<th>Hibernating</th>\n",
        "</tr>\n",
        "<tr>\n",
        "<th>1,2</h1>\n",
        "<th>3,4</th>\n",
        "<th>very long duration,moderate frequecy</th>\n",
        "<th>$\\color{red}{\\text{At risk}}$</th>\n",
        "</tr>\n",
        "<tr>\n",
        "<th>1,2</h1>\n",
        "<th>5</th>\n",
        "<th>very long duration,high frquency</th>\n",
        "<th>$\\color{violet}{\\text{Can't loose}}$</th>\n",
        "</tr>\n",
        "<tr>\n",
        "<th>3</h1>\n",
        "<th>1,2</th>\n",
        "<th>avg duration,low frequncy</th>\n",
        "<th>about to sleep</th>\n",
        "</tr>\n",
        "<tr>\n",
        "<th>3</h1>\n",
        "<th>3</th>\n",
        "<th>avg duration,avg frequency</th>\n",
        "<th>$\\color{violet}{\\text{need attention}}$</th>\n",
        "</tr>\n",
        "<tr>\n",
        "<th>3,4</h1>\n",
        "<th>4,5</th>\n",
        "<th>short duration,high frequency</th>\n",
        "<th>$\\color{green}{\\text{Loyal customer}}$</th>\n",
        "</tr>\n",
        "<tr>\n",
        "<th>4</h1>\n",
        "<th>1</th>\n",
        "<th>short duration,low frquency</th>\n",
        "<th>$\\color{red}{\\text{promissing}}$</th>\n",
        "</tr>\n",
        "<tr>\n",
        "<th>5</h1>\n",
        "<th>1</th>\n",
        "<th>very short duration,low frquecy</th>\n",
        "<th>$\\color{blue}{\\text{New customer}}$</th>\n",
        "</tr>\n",
        "<tr>\n",
        "<th>4,5</h1>\n",
        "<th>2,3</th>\n",
        "<th>short to very short duration,low frequency</th>\n",
        "<th>$\\color{red}{\\text{Potential_loyalists}}$</th>\n",
        "</tr>\n",
        "<tr>\n",
        "<th>5</h1>\n",
        "<th>4,5</th>\n",
        "<th>very short duration,high frequency</th>\n",
        "<th> $\\color{green}{\\text{Champions}}$</th>\n",
        "<th></th>\n",
        "</tr>\n",
        "</table>"
      ]
    },
    {
      "cell_type": "code",
      "metadata": {
        "id": "HUVxMtgoE0hM"
      },
      "source": [
        "seg_map = {\n",
        "    r'[1-2][1-2]': 'hibernating',\n",
        "    r'[1-2][3-4]': 'at_Risk',\n",
        "    r'[1-2]5': 'cant_loose',\n",
        "    r'3[1-2]': 'about_to_sleep',\n",
        "    r'33': 'need_attention',\n",
        "    r'[3-4][4-5]': 'loyal_customers',\n",
        "    r'41': 'promising',\n",
        "    r'51': 'new_customers',\n",
        "    r'[4-5][2-3]': 'potential_loyalists',\n",
        "    r'5[4-5]': 'champions'\n",
        "}"
      ],
      "execution_count": null,
      "outputs": []
    },
    {
      "cell_type": "code",
      "metadata": {
        "id": "IOevzuWTE2h9"
      },
      "source": [
        "rfm['segment']=rfm['rfm_score'].replace(seg_map,regex=True)"
      ],
      "execution_count": null,
      "outputs": []
    },
    {
      "cell_type": "code",
      "metadata": {
        "colab": {
          "base_uri": "https://localhost:8080/",
          "height": 418
        },
        "id": "J1B4ri-RMmzH",
        "outputId": "29704e97-1ffa-4879-cebe-00d4db006779"
      },
      "source": [
        "rfm[['segment','recency','frequency','monetary']].groupby('segment').agg(['mean','count'])"
      ],
      "execution_count": null,
      "outputs": [
        {
          "output_type": "execute_result",
          "data": {
            "text/html": [
              "<div>\n",
              "<style scoped>\n",
              "    .dataframe tbody tr th:only-of-type {\n",
              "        vertical-align: middle;\n",
              "    }\n",
              "\n",
              "    .dataframe tbody tr th {\n",
              "        vertical-align: top;\n",
              "    }\n",
              "\n",
              "    .dataframe thead tr th {\n",
              "        text-align: left;\n",
              "    }\n",
              "\n",
              "    .dataframe thead tr:last-of-type th {\n",
              "        text-align: right;\n",
              "    }\n",
              "</style>\n",
              "<table border=\"1\" class=\"dataframe\">\n",
              "  <thead>\n",
              "    <tr>\n",
              "      <th></th>\n",
              "      <th colspan=\"2\" halign=\"left\">recency</th>\n",
              "      <th colspan=\"2\" halign=\"left\">frequency</th>\n",
              "      <th colspan=\"2\" halign=\"left\">monetary</th>\n",
              "    </tr>\n",
              "    <tr>\n",
              "      <th></th>\n",
              "      <th>mean</th>\n",
              "      <th>count</th>\n",
              "      <th>mean</th>\n",
              "      <th>count</th>\n",
              "      <th>mean</th>\n",
              "      <th>count</th>\n",
              "    </tr>\n",
              "    <tr>\n",
              "      <th>segment</th>\n",
              "      <th></th>\n",
              "      <th></th>\n",
              "      <th></th>\n",
              "      <th></th>\n",
              "      <th></th>\n",
              "      <th></th>\n",
              "    </tr>\n",
              "  </thead>\n",
              "  <tbody>\n",
              "    <tr>\n",
              "      <th>about_to_sleep</th>\n",
              "      <td>-37.687500</td>\n",
              "      <td>352</td>\n",
              "      <td>1.161932</td>\n",
              "      <td>352</td>\n",
              "      <td>471.994375</td>\n",
              "      <td>352</td>\n",
              "    </tr>\n",
              "    <tr>\n",
              "      <th>at_Risk</th>\n",
              "      <td>62.785835</td>\n",
              "      <td>593</td>\n",
              "      <td>2.878583</td>\n",
              "      <td>593</td>\n",
              "      <td>1084.535297</td>\n",
              "      <td>593</td>\n",
              "    </tr>\n",
              "    <tr>\n",
              "      <th>cant_loose</th>\n",
              "      <td>41.968254</td>\n",
              "      <td>63</td>\n",
              "      <td>8.380952</td>\n",
              "      <td>63</td>\n",
              "      <td>2796.155873</td>\n",
              "      <td>63</td>\n",
              "    </tr>\n",
              "    <tr>\n",
              "      <th>champions</th>\n",
              "      <td>-84.638231</td>\n",
              "      <td>633</td>\n",
              "      <td>12.417062</td>\n",
              "      <td>633</td>\n",
              "      <td>6857.935482</td>\n",
              "      <td>633</td>\n",
              "    </tr>\n",
              "    <tr>\n",
              "      <th>hibernating</th>\n",
              "      <td>126.605042</td>\n",
              "      <td>1071</td>\n",
              "      <td>1.101774</td>\n",
              "      <td>1071</td>\n",
              "      <td>488.643307</td>\n",
              "      <td>1071</td>\n",
              "    </tr>\n",
              "    <tr>\n",
              "      <th>loyal_customers</th>\n",
              "      <td>-57.391941</td>\n",
              "      <td>819</td>\n",
              "      <td>6.479853</td>\n",
              "      <td>819</td>\n",
              "      <td>2864.247791</td>\n",
              "      <td>819</td>\n",
              "    </tr>\n",
              "    <tr>\n",
              "      <th>need_attention</th>\n",
              "      <td>-38.572193</td>\n",
              "      <td>187</td>\n",
              "      <td>2.326203</td>\n",
              "      <td>187</td>\n",
              "      <td>897.627861</td>\n",
              "      <td>187</td>\n",
              "    </tr>\n",
              "    <tr>\n",
              "      <th>new_customers</th>\n",
              "      <td>-83.571429</td>\n",
              "      <td>42</td>\n",
              "      <td>1.000000</td>\n",
              "      <td>42</td>\n",
              "      <td>388.212857</td>\n",
              "      <td>42</td>\n",
              "    </tr>\n",
              "    <tr>\n",
              "      <th>potential_loyalists</th>\n",
              "      <td>-73.601240</td>\n",
              "      <td>484</td>\n",
              "      <td>2.010331</td>\n",
              "      <td>484</td>\n",
              "      <td>1041.222004</td>\n",
              "      <td>484</td>\n",
              "    </tr>\n",
              "    <tr>\n",
              "      <th>promising</th>\n",
              "      <td>-67.489362</td>\n",
              "      <td>94</td>\n",
              "      <td>1.000000</td>\n",
              "      <td>94</td>\n",
              "      <td>294.007979</td>\n",
              "      <td>94</td>\n",
              "    </tr>\n",
              "  </tbody>\n",
              "</table>\n",
              "</div>"
            ],
            "text/plain": [
              "                        recency        frequency           monetary      \n",
              "                           mean count       mean count         mean count\n",
              "segment                                                                  \n",
              "about_to_sleep       -37.687500   352   1.161932   352   471.994375   352\n",
              "at_Risk               62.785835   593   2.878583   593  1084.535297   593\n",
              "cant_loose            41.968254    63   8.380952    63  2796.155873    63\n",
              "champions            -84.638231   633  12.417062   633  6857.935482   633\n",
              "hibernating          126.605042  1071   1.101774  1071   488.643307  1071\n",
              "loyal_customers      -57.391941   819   6.479853   819  2864.247791   819\n",
              "need_attention       -38.572193   187   2.326203   187   897.627861   187\n",
              "new_customers        -83.571429    42   1.000000    42   388.212857    42\n",
              "potential_loyalists  -73.601240   484   2.010331   484  1041.222004   484\n",
              "promising            -67.489362    94   1.000000    94   294.007979    94"
            ]
          },
          "metadata": {},
          "execution_count": 47
        }
      ]
    },
    {
      "cell_type": "code",
      "metadata": {
        "colab": {
          "base_uri": "https://localhost:8080/",
          "height": 110
        },
        "id": "89Ivt5LcO-jb",
        "outputId": "0973db0e-3dda-4f3a-ef95-3b06138a5345"
      },
      "source": [
        "champions=rfm[rfm['segment']=='champions']\n",
        "champions[['recency','frequency','monetary']].agg(['mean', 'count'])\n"
      ],
      "execution_count": null,
      "outputs": [
        {
          "output_type": "execute_result",
          "data": {
            "text/html": [
              "<div>\n",
              "<style scoped>\n",
              "    .dataframe tbody tr th:only-of-type {\n",
              "        vertical-align: middle;\n",
              "    }\n",
              "\n",
              "    .dataframe tbody tr th {\n",
              "        vertical-align: top;\n",
              "    }\n",
              "\n",
              "    .dataframe thead th {\n",
              "        text-align: right;\n",
              "    }\n",
              "</style>\n",
              "<table border=\"1\" class=\"dataframe\">\n",
              "  <thead>\n",
              "    <tr style=\"text-align: right;\">\n",
              "      <th></th>\n",
              "      <th>recency</th>\n",
              "      <th>frequency</th>\n",
              "      <th>monetary</th>\n",
              "    </tr>\n",
              "  </thead>\n",
              "  <tbody>\n",
              "    <tr>\n",
              "      <th>mean</th>\n",
              "      <td>-84.638231</td>\n",
              "      <td>12.417062</td>\n",
              "      <td>6857.935482</td>\n",
              "    </tr>\n",
              "    <tr>\n",
              "      <th>count</th>\n",
              "      <td>633.000000</td>\n",
              "      <td>633.000000</td>\n",
              "      <td>633.000000</td>\n",
              "    </tr>\n",
              "  </tbody>\n",
              "</table>\n",
              "</div>"
            ],
            "text/plain": [
              "          recency   frequency     monetary\n",
              "mean   -84.638231   12.417062  6857.935482\n",
              "count  633.000000  633.000000   633.000000"
            ]
          },
          "metadata": {},
          "execution_count": 48
        }
      ]
    },
    {
      "cell_type": "code",
      "metadata": {
        "colab": {
          "base_uri": "https://localhost:8080/",
          "height": 234
        },
        "id": "iFNSh-QjSRwO",
        "outputId": "d9c51e22-be8d-4c61-8280-7de7a9247a5f"
      },
      "source": [
        "rfm.head()"
      ],
      "execution_count": null,
      "outputs": [
        {
          "output_type": "execute_result",
          "data": {
            "text/html": [
              "<div>\n",
              "<style scoped>\n",
              "    .dataframe tbody tr th:only-of-type {\n",
              "        vertical-align: middle;\n",
              "    }\n",
              "\n",
              "    .dataframe tbody tr th {\n",
              "        vertical-align: top;\n",
              "    }\n",
              "\n",
              "    .dataframe thead th {\n",
              "        text-align: right;\n",
              "    }\n",
              "</style>\n",
              "<table border=\"1\" class=\"dataframe\">\n",
              "  <thead>\n",
              "    <tr style=\"text-align: right;\">\n",
              "      <th></th>\n",
              "      <th>recency</th>\n",
              "      <th>frequency</th>\n",
              "      <th>monetary</th>\n",
              "      <th>recency_score</th>\n",
              "      <th>frequency_score</th>\n",
              "      <th>monetary_score</th>\n",
              "      <th>rfm_score</th>\n",
              "      <th>segment</th>\n",
              "    </tr>\n",
              "    <tr>\n",
              "      <th>CustomerID</th>\n",
              "      <th></th>\n",
              "      <th></th>\n",
              "      <th></th>\n",
              "      <th></th>\n",
              "      <th></th>\n",
              "      <th></th>\n",
              "      <th></th>\n",
              "      <th></th>\n",
              "    </tr>\n",
              "  </thead>\n",
              "  <tbody>\n",
              "    <tr>\n",
              "      <th>12346.0</th>\n",
              "      <td>235</td>\n",
              "      <td>1</td>\n",
              "      <td>77183.60</td>\n",
              "      <td>1</td>\n",
              "      <td>1</td>\n",
              "      <td>5</td>\n",
              "      <td>11</td>\n",
              "      <td>hibernating</td>\n",
              "    </tr>\n",
              "    <tr>\n",
              "      <th>12347.0</th>\n",
              "      <td>-88</td>\n",
              "      <td>7</td>\n",
              "      <td>4310.00</td>\n",
              "      <td>5</td>\n",
              "      <td>5</td>\n",
              "      <td>5</td>\n",
              "      <td>55</td>\n",
              "      <td>champions</td>\n",
              "    </tr>\n",
              "    <tr>\n",
              "      <th>12348.0</th>\n",
              "      <td>-15</td>\n",
              "      <td>4</td>\n",
              "      <td>1797.24</td>\n",
              "      <td>2</td>\n",
              "      <td>4</td>\n",
              "      <td>4</td>\n",
              "      <td>24</td>\n",
              "      <td>at_Risk</td>\n",
              "    </tr>\n",
              "    <tr>\n",
              "      <th>12349.0</th>\n",
              "      <td>-72</td>\n",
              "      <td>1</td>\n",
              "      <td>1757.55</td>\n",
              "      <td>4</td>\n",
              "      <td>1</td>\n",
              "      <td>4</td>\n",
              "      <td>41</td>\n",
              "      <td>promising</td>\n",
              "    </tr>\n",
              "    <tr>\n",
              "      <th>12350.0</th>\n",
              "      <td>220</td>\n",
              "      <td>1</td>\n",
              "      <td>334.40</td>\n",
              "      <td>1</td>\n",
              "      <td>1</td>\n",
              "      <td>2</td>\n",
              "      <td>11</td>\n",
              "      <td>hibernating</td>\n",
              "    </tr>\n",
              "  </tbody>\n",
              "</table>\n",
              "</div>"
            ],
            "text/plain": [
              "            recency  frequency  monetary  ... monetary_score rfm_score      segment\n",
              "CustomerID                                ...                                      \n",
              "12346.0         235          1  77183.60  ...              5        11  hibernating\n",
              "12347.0         -88          7   4310.00  ...              5        55    champions\n",
              "12348.0         -15          4   1797.24  ...              4        24      at_Risk\n",
              "12349.0         -72          1   1757.55  ...              4        41    promising\n",
              "12350.0         220          1    334.40  ...              2        11  hibernating\n",
              "\n",
              "[5 rows x 8 columns]"
            ]
          },
          "metadata": {},
          "execution_count": 49
        }
      ]
    },
    {
      "cell_type": "code",
      "metadata": {
        "id": "6rrEqW92RuRT"
      },
      "source": [
        "data=(rfm.segment,rfm.frequency)"
      ],
      "execution_count": null,
      "outputs": []
    },
    {
      "cell_type": "code",
      "metadata": {
        "colab": {
          "base_uri": "https://localhost:8080/",
          "height": 869
        },
        "id": "KAdeEIaWRa2f",
        "outputId": "06b2dbbe-354e-42e1-f97f-45a2b32f6310"
      },
      "source": [
        "sns.set_theme(style=\"darkgrid\")\n",
        "g=sns.displot(\n",
        "            y=rfm['recency'],\n",
        "            x=rfm['segment'],\n",
        "            binwidth=0.2, height=12\n",
        "             );\n"
      ],
      "execution_count": null,
      "outputs": [
        {
          "output_type": "display_data",
          "data": {
            "image/png": "[encoded data removed]",
            "text/plain": [
              "<Figure size 864x864 with 1 Axes>"
            ]
          },
          "metadata": {}
        }
      ]
    }
  ]
}